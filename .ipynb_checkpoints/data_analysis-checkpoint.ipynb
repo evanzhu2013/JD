{
 "cells": [
  {
   "cell_type": "markdown",
   "metadata": {},
   "source": [
    "# 京东JData算法大赛(2)-数据分析"
   ]
  },
  {
   "cell_type": "code",
   "execution_count": 1,
   "metadata": {
    "collapsed": true
   },
   "outputs": [],
   "source": [
    "# 导入相关包\n",
    "%matplotlib inline\n",
    "# 绘图包\n",
    "import matplotlib\n",
    "import matplotlib.pyplot as plt\n",
    "%config InlineBackend.figure_format = 'retina'\n",
    "\n",
    "import numpy as np\n",
    "import pandas as pd"
   ]
  },
  {
   "cell_type": "code",
   "execution_count": 2,
   "metadata": {
    "collapsed": true
   },
   "outputs": [],
   "source": [
    "# 定义文件名\n",
    "ACTION_201602_FILE = \"data/JData_Action_201602.csv\"\n",
    "ACTION_201603_FILE = \"data/JData_Action_201603.csv\"\n",
    "ACTION_201603_EXTRA_FILE = \"data/JData_Action_201603_extra.csv\"\n",
    "ACTION_201604_FILE = \"data/JData_Action_201604.csv\"\n",
    "COMMENT_FILE = \"data/JData_Comment.csv\"\n",
    "PRODUCT_FILE = \"data/JData_Product.csv\"\n",
    "USER_FILE = \"data/JData_User.csv\"\n",
    "NEW_USER_FILE = \"data/JData_User_New.csv\"\n",
    "USER_TABLE_FILE = \"data/user_table.csv\"\n",
    "ITEM_TABLE_FILE = \"data/item_table.csv\""
   ]
  },
  {
   "cell_type": "markdown",
   "metadata": {},
   "source": [
    "### 周一到周日各天购买情况"
   ]
  },
  {
   "cell_type": "code",
   "execution_count": 3,
   "metadata": {
    "collapsed": true
   },
   "outputs": [],
   "source": [
    "# 提取购买(type=4)的行为数据\n",
    "def get_from_action_data(fname, chunk_size=100000):\n",
    "    reader = pd.read_csv(fname, header=0, iterator=True)\n",
    "    chunks = []\n",
    "    loop = True\n",
    "    while loop:\n",
    "        try:\n",
    "            chunk = reader.get_chunk(chunk_size)[\n",
    "                [\"user_id\", \"sku_id\", \"type\", \"time\"]]\n",
    "            chunks.append(chunk)\n",
    "        except StopIteration:\n",
    "            loop = False\n",
    "            print(\"Iteration is stopped\")\n",
    "\n",
    "    df_ac = pd.concat(chunks, ignore_index=True)\n",
    "    # type=4,为购买\n",
    "    df_ac = df_ac[df_ac['type'] == 4]\n",
    "\n",
    "    return df_ac[[\"user_id\", \"sku_id\", \"time\"]]"
   ]
  },
  {
   "cell_type": "code",
   "execution_count": 4,
   "metadata": {},
   "outputs": [
    {
     "name": "stdout",
     "output_type": "stream",
     "text": [
      "Iteration is stopped\n",
      "Iteration is stopped\n",
      "Iteration is stopped\n",
      "Iteration is stopped\n"
     ]
    }
   ],
   "source": [
    "df_ac = []\n",
    "df_ac.append(get_from_action_data(fname=ACTION_201602_FILE))\n",
    "df_ac.append(get_from_action_data(fname=ACTION_201603_FILE))\n",
    "df_ac.append(get_from_action_data(fname=ACTION_201603_EXTRA_FILE))\n",
    "df_ac.append(get_from_action_data(fname=ACTION_201604_FILE))\n",
    "df_ac = pd.concat(df_ac, ignore_index=True)"
   ]
  },
  {
   "cell_type": "code",
   "execution_count": 5,
   "metadata": {},
   "outputs": [
    {
     "name": "stdout",
     "output_type": "stream",
     "text": [
      "user_id     int64\n",
      "sku_id      int64\n",
      "time       object\n",
      "dtype: object\n"
     ]
    }
   ],
   "source": [
    "print(df_ac.dtypes)"
   ]
  },
  {
   "cell_type": "code",
   "execution_count": 6,
   "metadata": {
    "collapsed": true
   },
   "outputs": [],
   "source": [
    "# 将time字段转换为datetime类型\n",
    "df_ac['time'] = pd.to_datetime(df_ac['time'])\n",
    "\n",
    "# 使用lambda匿名函数将时间time转换为星期(周一为1, 周日为７)\n",
    "df_ac['time'] = df_ac['time'].apply(lambda x: x.weekday() + 1)"
   ]
  },
  {
   "cell_type": "code",
   "execution_count": 7,
   "metadata": {
    "collapsed": true
   },
   "outputs": [],
   "source": [
    "# 周一到周日每天购买用户个数\n",
    "df_user = df_ac.groupby('time')['user_id'].nunique()\n",
    "df_user = df_user.to_frame().reset_index()\n",
    "df_user.columns = ['weekday', 'user_num']"
   ]
  },
  {
   "cell_type": "code",
   "execution_count": 8,
   "metadata": {
    "collapsed": true
   },
   "outputs": [],
   "source": [
    "# 周一到周日每天购买商品个数\n",
    "df_item = df_ac.groupby('time')['sku_id'].nunique()\n",
    "df_item = df_item.to_frame().reset_index()\n",
    "df_item.columns = ['weekday', 'item_num']"
   ]
  },
  {
   "cell_type": "code",
   "execution_count": 9,
   "metadata": {
    "collapsed": true
   },
   "outputs": [],
   "source": [
    "# 周一到周日每天购买记录个数\n",
    "df_ui = df_ac.groupby('time', as_index=False).size()\n",
    "df_ui = df_ui.to_frame().reset_index()\n",
    "df_ui.columns = ['weekday', 'user_item_num']"
   ]
  },
  {
   "cell_type": "code",
   "execution_count": 10,
   "metadata": {},
   "outputs": [
    {
     "data": {
      "text/plain": [
       "<matplotlib.legend.Legend at 0x115fcb310>"
      ]
     },
     "execution_count": 10,
     "metadata": {},
     "output_type": "execute_result"
    },
    {
     "data": {
      "image/png": "[encoded data removed]",
      "text/plain": [
       "<matplotlib.figure.Figure at 0x1166141d0>"
      ]
     },
     "metadata": {
      "image/png": {
       "height": 279,
       "width": 422
      }
     },
     "output_type": "display_data"
    }
   ],
   "source": [
    "# 条形宽度\n",
    "bar_width = 0.2\n",
    "# 透明度\n",
    "opacity = 0.4\n",
    "\n",
    "plt.bar(df_user['weekday'], df_user['user_num'], bar_width, \n",
    "        alpha=opacity, color='c', label='user')\n",
    "plt.bar(df_item['weekday']+bar_width, df_item['item_num'], \n",
    "        bar_width, alpha=opacity, color='g', label='item')\n",
    "plt.bar(df_ui['weekday']+bar_width*2, df_ui['user_item_num'], \n",
    "        bar_width, alpha=opacity, color='m', label='user_item')\n",
    "\n",
    "plt.xlabel('weekday')\n",
    "plt.ylabel('number')\n",
    "plt.title('A Week Purchase Table')\n",
    "plt.xticks(df_user['weekday'] + bar_width * 3 / 2., (1,2,3,4,5,6,7))\n",
    "plt.tight_layout() \n",
    "plt.legend(prop={'size':9})"
   ]
  },
  {
   "cell_type": "markdown",
   "metadata": {},
   "source": [
    "**分析**: 一周用户购买数量分布相对比较均衡,周六周日购买数相对较少,可能是此时大家都去过周末玩了,而平时可以逛京东作为消遣."
   ]
  },
  {
   "cell_type": "markdown",
   "metadata": {},
   "source": [
    "### 一个月各天购买情况"
   ]
  },
  {
   "cell_type": "markdown",
   "metadata": {},
   "source": [
    "#### 2016年2月"
   ]
  },
  {
   "cell_type": "code",
   "execution_count": 11,
   "metadata": {},
   "outputs": [
    {
     "name": "stdout",
     "output_type": "stream",
     "text": [
      "Iteration is stopped\n"
     ]
    }
   ],
   "source": [
    "df_ac = get_from_action_data(fname=ACTION_201602_FILE)\n",
    "\n",
    "# 将time字段转换为datetime类型并使用lambda匿名函数将时间time转换为天\n",
    "df_ac['time'] = pd.to_datetime(df_ac['time']).apply(lambda x: x.day)"
   ]
  },
  {
   "cell_type": "code",
   "execution_count": 12,
   "metadata": {
    "collapsed": true
   },
   "outputs": [],
   "source": [
    "df_user = df_ac.groupby('time')['user_id'].nunique()\n",
    "df_user = df_user.to_frame().reset_index()\n",
    "df_user.columns = ['day', 'user_num']\n",
    "\n",
    "df_item = df_ac.groupby('time')['sku_id'].nunique()\n",
    "df_item = df_item.to_frame().reset_index()\n",
    "df_item.columns = ['day', 'item_num']\n",
    "\n",
    "df_ui = df_ac.groupby('time', as_index=False).size()\n",
    "df_ui = df_ui.to_frame().reset_index()\n",
    "df_ui.columns = ['day', 'user_item_num']"
   ]
  },
  {
   "cell_type": "code",
   "execution_count": 13,
   "metadata": {},
   "outputs": [
    {
     "data": {
      "text/plain": [
       "<matplotlib.legend.Legend at 0x116460450>"
      ]
     },
     "execution_count": 13,
     "metadata": {},
     "output_type": "execute_result"
    },
    {
     "data": {
      "image/png": "[encoded data removed]",
      "text/plain": [
       "<matplotlib.figure.Figure at 0x115ff4250>"
      ]
     },
     "metadata": {
      "image/png": {
       "height": 711,
       "width": 998
      }
     },
     "output_type": "display_data"
    }
   ],
   "source": [
    "# 条形宽度\n",
    "bar_width = 0.2\n",
    "# 透明度\n",
    "opacity = 0.4\n",
    "# 天数\n",
    "day_range = range(1,len(df_user['day']) + 1, 1)\n",
    "# 设置图片大小\n",
    "plt.figure(figsize=(14,10))\n",
    "\n",
    "plt.bar(df_user['day'], df_user['user_num'], bar_width, \n",
    "        alpha=opacity, color='c', label='user')\n",
    "plt.bar(df_item['day']+bar_width, df_item['item_num'], \n",
    "        bar_width, alpha=opacity, color='g', label='item')\n",
    "plt.bar(df_ui['day']+bar_width*2, df_ui['user_item_num'], \n",
    "        bar_width, alpha=opacity, color='m', label='user_item')\n",
    "\n",
    "plt.xlabel('day')\n",
    "plt.ylabel('number')\n",
    "plt.title('February Purchase Table')\n",
    "plt.xticks(df_user['day'] + bar_width * 3 / 2., day_range)\n",
    "# plt.ylim(0, 80)\n",
    "plt.tight_layout() \n",
    "plt.legend(prop={'size':9})"
   ]
  },
  {
   "cell_type": "markdown",
   "metadata": {
    "collapsed": true
   },
   "source": [
    "**分析**: 从上面可以发现,在2月6号到2月10号之间是我们的农历新年,快递在这几天不上班,因而购物数量相对较少,在我们实际分析时, 可以暂时将这部分数据作为异常数据不去考虑,不加入我们的训练样本中."
   ]
  },
  {
   "cell_type": "markdown",
   "metadata": {},
   "source": [
    "#### 查看特定用户对特定商品的活动轨迹"
   ]
  },
  {
   "cell_type": "code",
   "execution_count": 14,
   "metadata": {
    "collapsed": true
   },
   "outputs": [],
   "source": [
    "def spec_ui_action_data(fname, user_id, item_id, chunk_size=100000):\n",
    "    reader = pd.read_csv(fname, header=0, iterator=True)\n",
    "    chunks = []\n",
    "    loop = True\n",
    "    while loop:\n",
    "        try:\n",
    "            chunk = reader.get_chunk(chunk_size)[\n",
    "                [\"user_id\", \"sku_id\", \"type\", \"time\"]]\n",
    "            chunks.append(chunk)\n",
    "        except StopIteration:\n",
    "            loop = False\n",
    "            print(\"Iteration is stopped\")\n",
    "\n",
    "    df_ac = pd.concat(chunks, ignore_index=True)\n",
    "    df_ac = df_ac[(df_ac['user_id'] == user_id) & (df_ac['sku_id'] == item_id)]\n",
    "\n",
    "    return df_ac"
   ]
  },
  {
   "cell_type": "code",
   "execution_count": 15,
   "metadata": {
    "collapsed": true
   },
   "outputs": [],
   "source": [
    "def explore_user_item_via_time():\n",
    "    user_id = 62969\n",
    "    item_id = 62655\n",
    "    df_ac = []\n",
    "    df_ac.append(spec_ui_action_data(ACTION_201602_FILE, user_id, item_id))\n",
    "    df_ac.append(spec_ui_action_data(ACTION_201603_FILE, user_id, item_id))\n",
    "    df_ac.append(spec_ui_action_data(\n",
    "        ACTION_201603_EXTRA_FILE, user_id, item_id))\n",
    "    df_ac.append(spec_ui_action_data(ACTION_201604_FILE, user_id, item_id))\n",
    "\n",
    "    df_ac = pd.concat(df_ac, ignore_index=False)\n",
    "    print(df_ac.sort_values(by='time'))"
   ]
  },
  {
   "cell_type": "code",
   "execution_count": 16,
   "metadata": {},
   "outputs": [
    {
     "name": "stdout",
     "output_type": "stream",
     "text": [
      "Iteration is stopped\n",
      "Iteration is stopped\n",
      "Iteration is stopped\n",
      "Iteration is stopped\n",
      "Empty DataFrame\n",
      "Columns: [user_id, sku_id, type, time]\n",
      "Index: []\n"
     ]
    }
   ],
   "source": [
    "explore_user_item_via_time()"
   ]
  },
  {
   "cell_type": "markdown",
   "metadata": {},
   "source": [
    "> 预测数据部分: 2016-04-16到2016-04-20用户是否下单P中的商品，每个用户只会下单一个商品；\n",
    "\n",
    "  由于我们需要预测16-20号五天用户的购买情况,那我们不妨分析下用户以5天为单位(周期为5)购买情况."
   ]
  },
  {
   "cell_type": "code",
   "execution_count": null,
   "metadata": {
    "collapsed": true
   },
   "outputs": [],
   "source": []
  }
 ],
 "metadata": {
  "kernelspec": {
   "display_name": "Python 2",
   "language": "python",
   "name": "python2"
  },
  "language_info": {
   "codemirror_mode": {
    "name": "ipython",
    "version": 2
   },
   "file_extension": ".py",
   "mimetype": "text/x-python",
   "name": "python",
   "nbconvert_exporter": "python",
   "pygments_lexer": "ipython2",
   "version": "2.7.13"
  }
 },
 "nbformat": 4,
 "nbformat_minor": 1
}
